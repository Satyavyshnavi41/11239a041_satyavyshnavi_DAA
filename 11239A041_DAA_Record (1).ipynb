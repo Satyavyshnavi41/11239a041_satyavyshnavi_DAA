{
  "nbformat": 4,
  "nbformat_minor": 0,
  "metadata": {
    "colab": {
      "provenance": []
    },
    "kernelspec": {
      "name": "python3",
      "display_name": "Python 3"
    },
    "language_info": {
      "name": "python"
    }
  },
  "cells": [
    {
      "cell_type": "markdown",
      "source": [
        "# **EXP 1:Towers Of Hanoi**"
      ],
      "metadata": {
        "id": "ZrUsVgtZZmeO"
      }
    },
    {
      "cell_type": "code",
      "source": [
        "def towers_of_hanoi(n, source, auxiliary, destination):\n",
        "    if n == 1:\n",
        "        print(f\"Move disk 1 from {source} to {destination}\")\n",
        "        return\n",
        "\n",
        "    # Move n-1 disks from source to auxiliary peg\n",
        "    towers_of_hanoi(n-1, source, destination, auxiliary)\n",
        "\n",
        "    # Move the nth disk from source to destination\n",
        "    print(f\"Move disk {n} from {source} to {destination}\")\n",
        "\n",
        "    # Move the n-1 disks from auxiliary to destination peg\n",
        "    towers_of_hanoi(n-1, auxiliary, source, destination)\n",
        "\n",
        "# Example Usage\n",
        "n = 3  # Number of disks\n",
        "towers_of_hanoi(n, 'A', 'B', 'C')\n"
      ],
      "metadata": {
        "colab": {
          "base_uri": "https://localhost:8080/"
        },
        "id": "Ri_uzOBqB9H5",
        "outputId": "77f47be4-339c-42a4-d060-6f096157b7a3"
      },
      "execution_count": null,
      "outputs": [
        {
          "output_type": "stream",
          "name": "stdout",
          "text": [
            "Move disk 1 from A to C\n",
            "Move disk 2 from A to B\n",
            "Move disk 1 from C to B\n",
            "Move disk 3 from A to C\n",
            "Move disk 1 from B to A\n",
            "Move disk 2 from B to C\n",
            "Move disk 1 from A to C\n"
          ]
        }
      ]
    },
    {
      "cell_type": "markdown",
      "source": [
        "# **EXP 2A:fibonacci series using recursion**"
      ],
      "metadata": {
        "id": "SONFb_O3ZwwB"
      }
    },
    {
      "cell_type": "code",
      "source": [
        "def fibonacci(n):\n",
        "    if n <= 0:\n",
        "        return \"Invalid input\"\n",
        "    elif n == 1:\n",
        "        return 0\n",
        "    elif n == 2:\n",
        "        return 1\n",
        "    else:\n",
        "        return fibonacci(n-1) + fibonacci(n-2)\n",
        "\n",
        "# Number of terms\n",
        "terms = 10\n",
        "\n",
        "# Printing Fibonacci series\n",
        "print(\"Fibonacci series:\")\n",
        "for i in range(1, terms + 1):\n",
        "    print(fibonacci(i), end=\" \")\n"
      ],
      "metadata": {
        "colab": {
          "base_uri": "https://localhost:8080/"
        },
        "id": "lGu4rLR8B9sD",
        "outputId": "380c4cce-3615-4e57-f060-fd8a53dfcc96"
      },
      "execution_count": null,
      "outputs": [
        {
          "output_type": "stream",
          "name": "stdout",
          "text": [
            "Fibonacci series:\n",
            "0 1 1 2 3 5 8 13 21 34 "
          ]
        }
      ]
    },
    {
      "cell_type": "markdown",
      "source": [
        "# **EXP 2B:fibonacci series using iteration**"
      ],
      "metadata": {
        "id": "fN6BOyBeaD1G"
      }
    },
    {
      "cell_type": "code",
      "source": [
        "def fibonacci_iterative(n):\n",
        "    if n <= 0:\n",
        "        return \"Invalid Input\"\n",
        "    elif n == 1:\n",
        "        return [0]\n",
        "    elif n == 2:\n",
        "        return [0, 1]\n",
        "\n",
        "    fib_sequence = [0, 1]\n",
        "    for _ in range(2, n):\n",
        "        fib_sequence.append(fib_sequence[-1] + fib_sequence[-2])\n",
        "    return fib_sequence\n",
        "\n",
        "# Example Usage\n",
        "n = 10  # Change this to generate the first n Fibonacci terms\n",
        "print(f\"The first {n} Fibonacci terms are: {fibonacci_iterative(n)}\")\n"
      ],
      "metadata": {
        "colab": {
          "base_uri": "https://localhost:8080/"
        },
        "id": "bu2E3QIGCsPn",
        "outputId": "cb00a02b-2545-4dfa-8587-2b4394a74112"
      },
      "execution_count": null,
      "outputs": [
        {
          "output_type": "stream",
          "name": "stdout",
          "text": [
            "The first 10 Fibonacci terms are: [0, 1, 1, 2, 3, 5, 8, 13, 21, 34]\n"
          ]
        }
      ]
    },
    {
      "cell_type": "markdown",
      "source": [
        "# **EXP 3: Bin Packing**"
      ],
      "metadata": {
        "id": "WCquyRfYagQF"
      }
    },
    {
      "cell_type": "code",
      "source": [
        "def nextfit(weight, c):\n",
        "    res = 0\n",
        "    rem = c\n",
        "    for _ in range(len(weight)):\n",
        "        if rem >= weight[_]:\n",
        "            rem = rem - weight[_]\n",
        "        else:\n",
        "            res += 1\n",
        "            rem = c - weight[_]\n",
        "    return res\n",
        "\n",
        "weight = [2, 5, 4, 7, 1, 3, 8]\n",
        "c = 10\n",
        "\n",
        "print(\"Number of bins required in Next Fit :\",\n",
        "                           nextfit(weight, c))\n"
      ],
      "metadata": {
        "colab": {
          "base_uri": "https://localhost:8080/"
        },
        "id": "jh0QmvzVEO0L",
        "outputId": "e2ea6294-e6a7-409b-c512-e9975f6fb361"
      },
      "execution_count": null,
      "outputs": [
        {
          "output_type": "stream",
          "name": "stdout",
          "text": [
            "Number of bins required in Next Fit : 4\n"
          ]
        }
      ]
    },
    {
      "cell_type": "markdown",
      "source": [],
      "metadata": {
        "id": "XTS5i9GHaoVx"
      }
    },
    {
      "cell_type": "code",
      "source": [
        "class Item:\n",
        "    def __init__(self, value, weight):\n",
        "        self.value = value\n",
        "        self.weight = weight\n",
        "        self.ratio = value / weight\n",
        "\n",
        "def fractional_knapsack(items, capacity):\n",
        "    # Sort items by value-to-weight ratio in descending order\n",
        "    items.sort(key=lambda x: x.ratio, reverse=True)\n",
        "\n",
        "    total_value = 0.0  # Total maximum value we can carry\n",
        "\n",
        "    for item in items:\n",
        "        if capacity >= item.weight:\n",
        "            # Take the whole item\n",
        "            capacity -= item.weight\n",
        "            total_value += item.value\n",
        "        else:\n",
        "            # Take fraction of the item\n",
        "            total_value += item.ratio * capacity\n",
        "            break  # Knapsack is full\n",
        "\n",
        "    return total_value\n",
        "\n",
        "# Example Usage\n",
        "items = [Item(60, 10), Item(100, 20), Item(120, 30)]  # (value, weight)\n",
        "capacity = 50\n",
        "max_value = fractional_knapsack(items, capacity)\n",
        "print(f\"Maximum value in Knapsack = {max_value}\")\n"
      ],
      "metadata": {
        "colab": {
          "base_uri": "https://localhost:8080/"
        },
        "id": "eVKc2hltEnEn",
        "outputId": "c4890b09-1120-41c3-acf1-b6ba723b063d"
      },
      "execution_count": null,
      "outputs": [
        {
          "output_type": "stream",
          "name": "stdout",
          "text": [
            "Maximum value in Knapsack = 240.0\n"
          ]
        }
      ]
    },
    {
      "cell_type": "code",
      "source": [
        "from itertools import permutations\n",
        "\n",
        "def tsp_dynamic(graph, start):\n",
        "    n = len(graph)\n",
        "    all_vertices = set(range(n))\n",
        "    min_path = float('inf')\n",
        "    best_route = []\n",
        "\n",
        "    for perm in permutations(all_vertices - {start}):\n",
        "        current_path_weight = 0\n",
        "        k = start\n",
        "\n",
        "        for j in perm:\n",
        "            current_path_weight += graph[k][j]\n",
        "            k = j\n",
        "\n",
        "        current_path_weight += graph[k][start]\n",
        "\n",
        "        if current_path_weight < min_path:\n",
        "            min_path = current_path_weight\n",
        "            best_route = [start] + list(perm) + [start]\n",
        "\n",
        "    return min_path, best_route\n",
        "\n",
        "# Example Usage\n",
        "graph = [\n",
        "    [0, 10, 15, 20],\n",
        "    [10, 0, 35, 25],\n",
        "    [15, 35, 0, 30],\n",
        "    [20, 25, 30, 0]\n",
        "]\n",
        "start = 0\n",
        "min_cost, route = tsp_dynamic(graph, start)\n",
        "print(f\"Minimum cost: {min_cost}\")\n",
        "print(f\"Optimal route: {route}\")\n"
      ],
      "metadata": {
        "colab": {
          "base_uri": "https://localhost:8080/"
        },
        "id": "aiE2HlNIFHSz",
        "outputId": "94729394-f57f-4c11-893f-122ef513a6ad"
      },
      "execution_count": null,
      "outputs": [
        {
          "output_type": "stream",
          "name": "stdout",
          "text": [
            "Minimum cost: 80\n",
            "Optimal route: [0, 1, 3, 2, 0]\n"
          ]
        }
      ]
    },
    {
      "cell_type": "code",
      "source": [
        "import heapq\n",
        "\n",
        "def prims_mst(graph):\n",
        "    n = len(graph)\n",
        "    visited = [False] * n\n",
        "    min_heap = [(0, 0)]  # (weight, node)\n",
        "    mst_cost = 0\n",
        "    mst_edges = []\n",
        "\n",
        "    while len(mst_edges) < n - 1:\n",
        "        weight, u = heapq.heappop(min_heap)\n",
        "\n",
        "        if visited[u]:\n",
        "            continue\n",
        "\n",
        "        visited[u] = True\n",
        "        mst_cost += weight\n",
        "\n",
        "        for v, w in graph[u]:\n",
        "            if not visited[v]:\n",
        "                heapq.heappush(min_heap, (w, v))\n",
        "\n",
        "        if weight != 0:\n",
        "            mst_edges.append((u, v, weight))\n",
        "\n",
        "    return mst_cost, mst_edges\n",
        "\n",
        "\n",
        "\n",
        "\n",
        "# Example Usage\n",
        "graph = {\n",
        "    0: [(1, 2), (3, 6)],\n",
        "    1: [(0, 2), (2, 3), (3, 8), (4, 5)],\n",
        "    2: [(1, 3), (4, 7)],\n",
        "    3: [(0, 6), (1, 8)],\n",
        "    4: [(1, 5), (2, 7)]\n",
        "}\n",
        "\n",
        "mst_cost, mst_edges = prims_mst(graph)\n",
        "print(f\"Minimum Spanning Tree Cost: {mst_cost}\")\n",
        "print(\"Edges in MST:\", mst_edges)\n"
      ],
      "metadata": {
        "colab": {
          "base_uri": "https://localhost:8080/"
        },
        "id": "g3eWTZJ-F6fI",
        "outputId": "74108269-443e-479a-fc23-9e6f76c91de1"
      },
      "execution_count": null,
      "outputs": [
        {
          "output_type": "stream",
          "name": "stdout",
          "text": [
            "Minimum Spanning Tree Cost: 16\n",
            "Edges in MST: [(1, 4, 2), (2, 4, 3), (4, 2, 5), (3, 1, 6)]\n"
          ]
        }
      ]
    },
    {
      "cell_type": "code",
      "source": [
        "import heapq\n",
        "\n",
        "def dijkstra(graph, start):\n",
        "    n = len(graph)\n",
        "    min_heap = [(0, start)]  # (distance, node)\n",
        "    distances = {node: float('inf') for node in graph}\n",
        "    distances[start] = 0\n",
        "\n",
        "    while min_heap:\n",
        "        current_distance, current_node = heapq.heappop(min_heap)\n",
        "\n",
        "        if current_distance > distances[current_node]:\n",
        "            continue\n",
        "\n",
        "        for neighbor, weight in graph[current_node]:\n",
        "            distance = current_distance + weight\n",
        "            if distance < distances[neighbor]:\n",
        "                distances[neighbor] = distance\n",
        "                heapq.heappush(min_heap, (distance, neighbor))\n",
        "\n",
        "    return distances\n",
        "\n",
        "# Example Usage\n",
        "graph = {\n",
        "    0: [(1, 4), (2, 1)],\n",
        "    1: [(3, 1)],\n",
        "    2: [(1, 2), (3, 5)],\n",
        "    3: []\n",
        "}\n",
        "start = 0\n",
        "distances = dijkstra(graph, start)\n",
        "print(\"Shortest distances from source:\", distances)\n"
      ],
      "metadata": {
        "colab": {
          "base_uri": "https://localhost:8080/"
        },
        "id": "m9hp1KXtGitm",
        "outputId": "b8bb5a85-1805-4ac9-ea1a-7fffe04a5464"
      },
      "execution_count": null,
      "outputs": [
        {
          "output_type": "stream",
          "name": "stdout",
          "text": [
            "Shortest distances from source: {0: 0, 1: 3, 2: 1, 3: 4}\n"
          ]
        }
      ]
    },
    {
      "cell_type": "code",
      "source": [
        "from collections import deque\n",
        "\n",
        "class Graph:\n",
        "    def __init__(self, vertices):\n",
        "        self.V = vertices  # Number of vertices\n",
        "        self.graph = [[0] * vertices for _ in range(vertices)]  # Adjacency matrix\n",
        "\n",
        "    def add_edge(self, u, v, capacity):\n",
        "        \"\"\"Adds an edge with the given capacity.\"\"\"\n",
        "        self.graph[u][v] = capacity\n",
        "\n",
        "    def bfs(self, source, sink, parent):\n",
        "        \"\"\"Performs BFS to find an augmenting path.\"\"\"\n",
        "        visited = [False] * self.V\n",
        "        queue = deque([source])\n",
        "        visited[source] = True\n",
        "\n",
        "        while queue:\n",
        "            u = queue.popleft()\n",
        "            for v in range(self.V):\n",
        "                if not visited[v] and self.graph[u][v] > 0:\n",
        "                    queue.append(v)\n",
        "                    visited[v] = True\n",
        "                    parent[v] = u\n",
        "                    if v == sink:\n",
        "                        return True\n",
        "        return False\n",
        "\n",
        "    def ford_fulkerson(self, source, sink):\n",
        "        \"\"\"Implements the Ford-Fulkerson algorithm using BFS (Edmonds-Karp).\"\"\"\n",
        "        parent = [-1] * self.V\n",
        "        max_flow = 0\n",
        "\n",
        "        while self.bfs(source, sink, parent):\n",
        "            path_flow = float(\"Inf\")\n",
        "            s = sink\n",
        "\n",
        "            while s != source:\n",
        "                path_flow = min(path_flow, self.graph[parent[s]][s])\n",
        "                s = parent[s]\n",
        "\n",
        "            max_flow += path_flow\n",
        "            v = sink\n",
        "            while v != source:\n",
        "                u = parent[v]\n",
        "                self.graph[u][v] -= path_flow\n",
        "                self.graph[v][u] += path_flow  # Reverse flow for residual graph\n",
        "                v = parent[v]\n",
        "\n",
        "        return max_flow\n",
        "\n",
        "# Example Usage\n",
        "if __name__ == \"__main__\":\n",
        "    g = Graph(6)  # Graph with 6 vertices\n",
        "    g.add_edge(0, 1, 16)\n",
        "    g.add_edge(0, 2, 13)\n",
        "    g.add_edge(1, 2, 10)\n",
        "    g.add_edge(1, 3, 12)\n",
        "    g.add_edge(2, 1, 4)\n",
        "    g.add_edge(2, 4, 14)\n",
        "    g.add_edge(3, 2, 9)\n",
        "    g.add_edge(3, 5, 20)\n",
        "    g.add_edge(4, 3, 7)\n",
        "    g.add_edge(4, 5, 4)\n",
        "\n",
        "    source = 0\n",
        "    sink = 5\n",
        "    print(\"The maximum possible flow is:\", g.ford_fulkerson(source, sink))\n"
      ],
      "metadata": {
        "colab": {
          "base_uri": "https://localhost:8080/"
        },
        "id": "pVFFgxaeHVch",
        "outputId": "5bad322b-bd38-407f-e4ff-f373bbd2867f"
      },
      "execution_count": null,
      "outputs": [
        {
          "output_type": "stream",
          "name": "stdout",
          "text": [
            "The maximum possible flow is: 23\n"
          ]
        }
      ]
    },
    {
      "cell_type": "code",
      "source": [
        "import random\n",
        "\n",
        "def vertex_cover_approximation(graph):\n",
        "    cover = set()\n",
        "    edges = set()\n",
        "\n",
        "    for u in graph:\n",
        "        for v in graph[u]:\n",
        "            edges.add((u, v))\n",
        "\n",
        "    while edges:\n",
        "        u, v = random.choice(list(edges))\n",
        "        cover.add(u)\n",
        "        cover.add(v)\n",
        "\n",
        "        edges = {edge for edge in edges if u not in edge and v not in edge}\n",
        "\n",
        "    return cover\n",
        "\n",
        "# Example Usage\n",
        "graph = {\n",
        "    0: [1, 2],\n",
        "    1: [0, 3],\n",
        "    2: [0, 3],\n",
        "    3: [1, 2, 4],\n",
        "    4: [3]\n",
        "}\n",
        "\n",
        "approx_cover = vertex_cover_approximation(graph)\n",
        "print(\"Approximate Vertex Cover:\", approx_cover)\n"
      ],
      "metadata": {
        "colab": {
          "base_uri": "https://localhost:8080/"
        },
        "id": "HEA65Lu4Hrw7",
        "outputId": "05469b34-6494-40e3-8092-a2d9b65c0e7a"
      },
      "execution_count": null,
      "outputs": [
        {
          "output_type": "stream",
          "name": "stdout",
          "text": [
            "Approximate Vertex Cover: {0, 1, 2, 3}\n"
          ]
        }
      ]
    },
    {
      "cell_type": "code",
      "source": [
        "import random\n",
        "\n",
        "def randomized_partition(arr, low, high):\n",
        "    pivot_index = random.randint(low, high)\n",
        "    arr[pivot_index], arr[high] = arr[high], arr[pivot_index]  # Swap pivot with last element\n",
        "    pivot = arr[high]\n",
        "    i = low - 1\n",
        "\n",
        "    for j in range(low, high):\n",
        "        if arr[j] <= pivot:\n",
        "            i += 1\n",
        "            arr[i], arr[j] = arr[j], arr[i]\n",
        "\n",
        "    arr[i + 1], arr[high] = arr[high], arr[i + 1]\n",
        "    return i + 1\n",
        "\n",
        "def randomized_quick_sort(arr, low, high):\n",
        "    if low < high:\n",
        "        pi = randomized_partition(arr, low, high)\n",
        "        randomized_quick_sort(arr, low, pi - 1)\n",
        "        randomized_quick_sort(arr, pi + 1, high)\n",
        "\n",
        "# Example Usage\n",
        "arr = [10, 7, 8, 9, 1, 5]\n",
        "randomized_quick_sort(arr, 0, len(arr) - 1)\n",
        "print(\"Sorted array:\", arr)\n"
      ],
      "metadata": {
        "colab": {
          "base_uri": "https://localhost:8080/"
        },
        "id": "gdvp-x-8ILH-",
        "outputId": "e849655e-08a8-45f3-96f1-c14922cf47ce"
      },
      "execution_count": null,
      "outputs": [
        {
          "output_type": "stream",
          "name": "stdout",
          "text": [
            "Sorted array: [1, 5, 7, 8, 9, 10]\n"
          ]
        }
      ]
    },
    {
      "cell_type": "code",
      "source": [],
      "metadata": {
        "id": "6dlZUngCI4YB"
      },
      "execution_count": null,
      "outputs": []
    }
  ]
}